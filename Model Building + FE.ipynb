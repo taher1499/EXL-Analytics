{
 "cells": [
  {
   "cell_type": "markdown",
   "metadata": {},
   "source": [
    "## Import"
   ]
  },
  {
   "cell_type": "code",
   "execution_count": 244,
   "metadata": {},
   "outputs": [],
   "source": [
    "import pandas as pd\n",
    "import numpy as np"
   ]
  },
  {
   "cell_type": "code",
   "execution_count": 245,
   "metadata": {},
   "outputs": [],
   "source": [
    "pd.set_option('display.max_rows', 500)\n",
    "pd.set_option('display.max_columns', 500)\n",
    "# pd.set_option('display.width', 1000)\n",
    "# pd.set_option('display.expand_frame_repr', True)"
   ]
  },
  {
   "cell_type": "code",
   "execution_count": 246,
   "metadata": {},
   "outputs": [],
   "source": [
    "import scipy\n",
    "import matplotlib.pyplot as plt\n",
    "%matplotlib inline\n",
    "import seaborn as sns\n",
    "import random\n",
    "import datetime\n",
    "import warnings\n",
    "warnings.filterwarnings('ignore')"
   ]
  },
  {
   "cell_type": "code",
   "execution_count": 247,
   "metadata": {},
   "outputs": [],
   "source": [
    "from matplotlib import rcParams\n",
    "#colorbrewer2 Dark2 qualitative color table\n",
    "dark2_colors = [(0.10588235294117647, 0.6196078431372549, 0.4666666666666667),\n",
    "                (0.8509803921568627, 0.37254901960784315, 0.00784313725490196),\n",
    "                (0.4588235294117647, 0.4392156862745098, 0.7019607843137254),\n",
    "                (0.9058823529411765, 0.1607843137254902, 0.5411764705882353),\n",
    "                (0.4, 0.6509803921568628, 0.11764705882352941),\n",
    "                (0.9019607843137255, 0.6705882352941176, 0.00784313725490196),\n",
    "                (0.6509803921568628, 0.4627450980392157, 0.11372549019607843)]\n",
    "\n",
    "rcParams['figure.figsize'] = (10, 4)\n",
    "rcParams['figure.dpi'] = 150\n",
    "#rcParams['axes.color_cycle'] = dark2_colors\n",
    "rcParams['lines.linewidth'] = 2\n",
    "rcParams['font.size'] = 8\n",
    "rcParams['patch.edgecolor'] = 'white'\n",
    "rcParams['patch.facecolor'] = dark2_colors[0]\n",
    "rcParams['font.family'] = 'StixGeneral'\n",
    "rcParams['axes.grid'] = True\n",
    "rcParams['axes.facecolor'] = '#eeeeee'"
   ]
  },
  {
   "cell_type": "code",
   "execution_count": 248,
   "metadata": {
    "scrolled": true
   },
   "outputs": [],
   "source": [
    "train = pd.read_csv('./train_data.csv')"
   ]
  },
  {
   "cell_type": "code",
   "execution_count": 249,
   "metadata": {
    "scrolled": true
   },
   "outputs": [
    {
     "data": {
      "text/html": [
       "<div>\n",
       "<style scoped>\n",
       "    .dataframe tbody tr th:only-of-type {\n",
       "        vertical-align: middle;\n",
       "    }\n",
       "\n",
       "    .dataframe tbody tr th {\n",
       "        vertical-align: top;\n",
       "    }\n",
       "\n",
       "    .dataframe thead th {\n",
       "        text-align: right;\n",
       "    }\n",
       "</style>\n",
       "<table border=\"1\" class=\"dataframe\">\n",
       "  <thead>\n",
       "    <tr style=\"text-align: right;\">\n",
       "      <th></th>\n",
       "      <th>cust_id</th>\n",
       "      <th>var1</th>\n",
       "      <th>var2</th>\n",
       "      <th>var3</th>\n",
       "      <th>var4</th>\n",
       "      <th>var5</th>\n",
       "      <th>var6</th>\n",
       "      <th>var7</th>\n",
       "      <th>var8</th>\n",
       "      <th>var9</th>\n",
       "      <th>var10</th>\n",
       "      <th>var11</th>\n",
       "      <th>var12</th>\n",
       "      <th>var13</th>\n",
       "      <th>var14</th>\n",
       "      <th>var15</th>\n",
       "      <th>var16</th>\n",
       "      <th>var21</th>\n",
       "      <th>var22</th>\n",
       "      <th>var23</th>\n",
       "      <th>var24</th>\n",
       "      <th>var25</th>\n",
       "      <th>var26</th>\n",
       "      <th>var27</th>\n",
       "      <th>var28</th>\n",
       "      <th>var29</th>\n",
       "      <th>var31</th>\n",
       "      <th>var32</th>\n",
       "    </tr>\n",
       "  </thead>\n",
       "  <tbody>\n",
       "    <tr>\n",
       "      <th>count</th>\n",
       "      <td>300000.000000</td>\n",
       "      <td>300000.000000</td>\n",
       "      <td>300000.000000</td>\n",
       "      <td>300000.000000</td>\n",
       "      <td>300000.000000</td>\n",
       "      <td>300000.000000</td>\n",
       "      <td>300000.000000</td>\n",
       "      <td>300000.000000</td>\n",
       "      <td>300000.000000</td>\n",
       "      <td>3.000000e+05</td>\n",
       "      <td>300000.000000</td>\n",
       "      <td>300000.000000</td>\n",
       "      <td>300000.000000</td>\n",
       "      <td>300000.00000</td>\n",
       "      <td>300000.000000</td>\n",
       "      <td>300000.000000</td>\n",
       "      <td>300000.000000</td>\n",
       "      <td>300000.000000</td>\n",
       "      <td>300000.000000</td>\n",
       "      <td>300000.000000</td>\n",
       "      <td>290084.000000</td>\n",
       "      <td>300000.000000</td>\n",
       "      <td>300000.000000</td>\n",
       "      <td>300000.000000</td>\n",
       "      <td>300000.000000</td>\n",
       "      <td>300000.000000</td>\n",
       "      <td>300000.000000</td>\n",
       "      <td>300000.000000</td>\n",
       "    </tr>\n",
       "    <tr>\n",
       "      <th>mean</th>\n",
       "      <td>250000.500000</td>\n",
       "      <td>2987.161307</td>\n",
       "      <td>0.567820</td>\n",
       "      <td>0.404513</td>\n",
       "      <td>4893.003973</td>\n",
       "      <td>0.513093</td>\n",
       "      <td>5.039663</td>\n",
       "      <td>2.242540</td>\n",
       "      <td>25.506757</td>\n",
       "      <td>3.205377e+05</td>\n",
       "      <td>3.189960</td>\n",
       "      <td>0.354827</td>\n",
       "      <td>567.004417</td>\n",
       "      <td>509.44858</td>\n",
       "      <td>0.431947</td>\n",
       "      <td>241.379920</td>\n",
       "      <td>0.053737</td>\n",
       "      <td>21.047837</td>\n",
       "      <td>91421.038147</td>\n",
       "      <td>43.971097</td>\n",
       "      <td>10.366787</td>\n",
       "      <td>0.053883</td>\n",
       "      <td>18.258913</td>\n",
       "      <td>210.077323</td>\n",
       "      <td>16.598460</td>\n",
       "      <td>15.211177</td>\n",
       "      <td>0.293537</td>\n",
       "      <td>0.373733</td>\n",
       "    </tr>\n",
       "    <tr>\n",
       "      <th>std</th>\n",
       "      <td>86602.684716</td>\n",
       "      <td>3349.886526</td>\n",
       "      <td>3.352299</td>\n",
       "      <td>0.632648</td>\n",
       "      <td>10742.376343</td>\n",
       "      <td>1.969464</td>\n",
       "      <td>2.933883</td>\n",
       "      <td>8.078042</td>\n",
       "      <td>81.535553</td>\n",
       "      <td>2.648355e+05</td>\n",
       "      <td>14.641967</td>\n",
       "      <td>1.131227</td>\n",
       "      <td>1185.068602</td>\n",
       "      <td>378.77933</td>\n",
       "      <td>0.976899</td>\n",
       "      <td>419.362044</td>\n",
       "      <td>0.225498</td>\n",
       "      <td>19.665769</td>\n",
       "      <td>47805.244109</td>\n",
       "      <td>28.366845</td>\n",
       "      <td>19.296733</td>\n",
       "      <td>0.225788</td>\n",
       "      <td>73.270510</td>\n",
       "      <td>1024.015097</td>\n",
       "      <td>114.512098</td>\n",
       "      <td>100.515091</td>\n",
       "      <td>1.699881</td>\n",
       "      <td>0.483795</td>\n",
       "    </tr>\n",
       "    <tr>\n",
       "      <th>min</th>\n",
       "      <td>100001.000000</td>\n",
       "      <td>20.000000</td>\n",
       "      <td>0.000000</td>\n",
       "      <td>0.000000</td>\n",
       "      <td>0.000000</td>\n",
       "      <td>0.000000</td>\n",
       "      <td>0.000000</td>\n",
       "      <td>0.000000</td>\n",
       "      <td>0.000000</td>\n",
       "      <td>0.000000e+00</td>\n",
       "      <td>0.000000</td>\n",
       "      <td>0.000000</td>\n",
       "      <td>0.000000</td>\n",
       "      <td>0.00000</td>\n",
       "      <td>0.000000</td>\n",
       "      <td>1.000000</td>\n",
       "      <td>0.000000</td>\n",
       "      <td>0.000000</td>\n",
       "      <td>0.000000</td>\n",
       "      <td>0.000000</td>\n",
       "      <td>0.000000</td>\n",
       "      <td>0.000000</td>\n",
       "      <td>0.000000</td>\n",
       "      <td>0.000000</td>\n",
       "      <td>0.000000</td>\n",
       "      <td>0.000000</td>\n",
       "      <td>0.000000</td>\n",
       "      <td>0.000000</td>\n",
       "    </tr>\n",
       "    <tr>\n",
       "      <th>25%</th>\n",
       "      <td>175000.750000</td>\n",
       "      <td>544.000000</td>\n",
       "      <td>0.000000</td>\n",
       "      <td>0.000000</td>\n",
       "      <td>688.000000</td>\n",
       "      <td>0.000000</td>\n",
       "      <td>2.000000</td>\n",
       "      <td>0.000000</td>\n",
       "      <td>0.000000</td>\n",
       "      <td>1.628160e+05</td>\n",
       "      <td>0.000000</td>\n",
       "      <td>0.000000</td>\n",
       "      <td>27.000000</td>\n",
       "      <td>174.00000</td>\n",
       "      <td>0.000000</td>\n",
       "      <td>63.000000</td>\n",
       "      <td>0.000000</td>\n",
       "      <td>8.000000</td>\n",
       "      <td>58668.750000</td>\n",
       "      <td>23.000000</td>\n",
       "      <td>0.000000</td>\n",
       "      <td>0.000000</td>\n",
       "      <td>2.000000</td>\n",
       "      <td>79.000000</td>\n",
       "      <td>0.000000</td>\n",
       "      <td>0.000000</td>\n",
       "      <td>0.000000</td>\n",
       "      <td>0.000000</td>\n",
       "    </tr>\n",
       "    <tr>\n",
       "      <th>50%</th>\n",
       "      <td>250000.500000</td>\n",
       "      <td>1862.000000</td>\n",
       "      <td>0.000000</td>\n",
       "      <td>0.000000</td>\n",
       "      <td>2161.000000</td>\n",
       "      <td>0.000000</td>\n",
       "      <td>5.000000</td>\n",
       "      <td>0.000000</td>\n",
       "      <td>3.000000</td>\n",
       "      <td>2.620815e+05</td>\n",
       "      <td>0.000000</td>\n",
       "      <td>0.000000</td>\n",
       "      <td>183.000000</td>\n",
       "      <td>437.00000</td>\n",
       "      <td>0.000000</td>\n",
       "      <td>141.000000</td>\n",
       "      <td>0.000000</td>\n",
       "      <td>15.000000</td>\n",
       "      <td>85514.000000</td>\n",
       "      <td>43.000000</td>\n",
       "      <td>0.000000</td>\n",
       "      <td>0.000000</td>\n",
       "      <td>5.000000</td>\n",
       "      <td>136.000000</td>\n",
       "      <td>0.000000</td>\n",
       "      <td>0.000000</td>\n",
       "      <td>0.000000</td>\n",
       "      <td>0.000000</td>\n",
       "    </tr>\n",
       "    <tr>\n",
       "      <th>75%</th>\n",
       "      <td>325000.250000</td>\n",
       "      <td>3616.000000</td>\n",
       "      <td>0.000000</td>\n",
       "      <td>1.000000</td>\n",
       "      <td>5302.000000</td>\n",
       "      <td>0.000000</td>\n",
       "      <td>8.000000</td>\n",
       "      <td>0.000000</td>\n",
       "      <td>20.000000</td>\n",
       "      <td>3.496402e+05</td>\n",
       "      <td>1.000000</td>\n",
       "      <td>0.000000</td>\n",
       "      <td>589.000000</td>\n",
       "      <td>708.00000</td>\n",
       "      <td>1.000000</td>\n",
       "      <td>225.000000</td>\n",
       "      <td>0.000000</td>\n",
       "      <td>34.000000</td>\n",
       "      <td>105833.250000</td>\n",
       "      <td>69.000000</td>\n",
       "      <td>16.000000</td>\n",
       "      <td>0.000000</td>\n",
       "      <td>10.000000</td>\n",
       "      <td>181.000000</td>\n",
       "      <td>7.000000</td>\n",
       "      <td>7.000000</td>\n",
       "      <td>0.000000</td>\n",
       "      <td>1.000000</td>\n",
       "    </tr>\n",
       "    <tr>\n",
       "      <th>max</th>\n",
       "      <td>400000.000000</td>\n",
       "      <td>17337.000000</td>\n",
       "      <td>31.000000</td>\n",
       "      <td>4.000000</td>\n",
       "      <td>103192.000000</td>\n",
       "      <td>20.000000</td>\n",
       "      <td>9.000000</td>\n",
       "      <td>104.000000</td>\n",
       "      <td>1783.000000</td>\n",
       "      <td>1.950000e+06</td>\n",
       "      <td>343.000000</td>\n",
       "      <td>11.000000</td>\n",
       "      <td>10198.000000</td>\n",
       "      <td>1893.00000</td>\n",
       "      <td>12.000000</td>\n",
       "      <td>3806.000000</td>\n",
       "      <td>1.000000</td>\n",
       "      <td>100.000000</td>\n",
       "      <td>343515.000000</td>\n",
       "      <td>99.000000</td>\n",
       "      <td>148.000000</td>\n",
       "      <td>1.000000</td>\n",
       "      <td>845.000000</td>\n",
       "      <td>21814.000000</td>\n",
       "      <td>2338.000000</td>\n",
       "      <td>2023.000000</td>\n",
       "      <td>28.000000</td>\n",
       "      <td>1.000000</td>\n",
       "    </tr>\n",
       "  </tbody>\n",
       "</table>\n",
       "</div>"
      ],
      "text/plain": [
       "             cust_id           var1           var2           var3  \\\n",
       "count  300000.000000  300000.000000  300000.000000  300000.000000   \n",
       "mean   250000.500000    2987.161307       0.567820       0.404513   \n",
       "std     86602.684716    3349.886526       3.352299       0.632648   \n",
       "min    100001.000000      20.000000       0.000000       0.000000   \n",
       "25%    175000.750000     544.000000       0.000000       0.000000   \n",
       "50%    250000.500000    1862.000000       0.000000       0.000000   \n",
       "75%    325000.250000    3616.000000       0.000000       1.000000   \n",
       "max    400000.000000   17337.000000      31.000000       4.000000   \n",
       "\n",
       "                var4           var5           var6           var7  \\\n",
       "count  300000.000000  300000.000000  300000.000000  300000.000000   \n",
       "mean     4893.003973       0.513093       5.039663       2.242540   \n",
       "std     10742.376343       1.969464       2.933883       8.078042   \n",
       "min         0.000000       0.000000       0.000000       0.000000   \n",
       "25%       688.000000       0.000000       2.000000       0.000000   \n",
       "50%      2161.000000       0.000000       5.000000       0.000000   \n",
       "75%      5302.000000       0.000000       8.000000       0.000000   \n",
       "max    103192.000000      20.000000       9.000000     104.000000   \n",
       "\n",
       "                var8          var9          var10          var11  \\\n",
       "count  300000.000000  3.000000e+05  300000.000000  300000.000000   \n",
       "mean       25.506757  3.205377e+05       3.189960       0.354827   \n",
       "std        81.535553  2.648355e+05      14.641967       1.131227   \n",
       "min         0.000000  0.000000e+00       0.000000       0.000000   \n",
       "25%         0.000000  1.628160e+05       0.000000       0.000000   \n",
       "50%         3.000000  2.620815e+05       0.000000       0.000000   \n",
       "75%        20.000000  3.496402e+05       1.000000       0.000000   \n",
       "max      1783.000000  1.950000e+06     343.000000      11.000000   \n",
       "\n",
       "               var12         var13          var14          var15  \\\n",
       "count  300000.000000  300000.00000  300000.000000  300000.000000   \n",
       "mean      567.004417     509.44858       0.431947     241.379920   \n",
       "std      1185.068602     378.77933       0.976899     419.362044   \n",
       "min         0.000000       0.00000       0.000000       1.000000   \n",
       "25%        27.000000     174.00000       0.000000      63.000000   \n",
       "50%       183.000000     437.00000       0.000000     141.000000   \n",
       "75%       589.000000     708.00000       1.000000     225.000000   \n",
       "max     10198.000000    1893.00000      12.000000    3806.000000   \n",
       "\n",
       "               var16          var21          var22          var23  \\\n",
       "count  300000.000000  300000.000000  300000.000000  300000.000000   \n",
       "mean        0.053737      21.047837   91421.038147      43.971097   \n",
       "std         0.225498      19.665769   47805.244109      28.366845   \n",
       "min         0.000000       0.000000       0.000000       0.000000   \n",
       "25%         0.000000       8.000000   58668.750000      23.000000   \n",
       "50%         0.000000      15.000000   85514.000000      43.000000   \n",
       "75%         0.000000      34.000000  105833.250000      69.000000   \n",
       "max         1.000000     100.000000  343515.000000      99.000000   \n",
       "\n",
       "               var24          var25          var26          var27  \\\n",
       "count  290084.000000  300000.000000  300000.000000  300000.000000   \n",
       "mean       10.366787       0.053883      18.258913     210.077323   \n",
       "std        19.296733       0.225788      73.270510    1024.015097   \n",
       "min         0.000000       0.000000       0.000000       0.000000   \n",
       "25%         0.000000       0.000000       2.000000      79.000000   \n",
       "50%         0.000000       0.000000       5.000000     136.000000   \n",
       "75%        16.000000       0.000000      10.000000     181.000000   \n",
       "max       148.000000       1.000000     845.000000   21814.000000   \n",
       "\n",
       "               var28          var29          var31          var32  \n",
       "count  300000.000000  300000.000000  300000.000000  300000.000000  \n",
       "mean       16.598460      15.211177       0.293537       0.373733  \n",
       "std       114.512098     100.515091       1.699881       0.483795  \n",
       "min         0.000000       0.000000       0.000000       0.000000  \n",
       "25%         0.000000       0.000000       0.000000       0.000000  \n",
       "50%         0.000000       0.000000       0.000000       0.000000  \n",
       "75%         7.000000       7.000000       0.000000       1.000000  \n",
       "max      2338.000000    2023.000000      28.000000       1.000000  "
      ]
     },
     "execution_count": 249,
     "metadata": {},
     "output_type": "execute_result"
    }
   ],
   "source": [
    "train.describe()"
   ]
  },
  {
   "cell_type": "markdown",
   "metadata": {},
   "source": [
    "#### Targert Analysis"
   ]
  },
  {
   "cell_type": "code",
   "execution_count": 250,
   "metadata": {
    "scrolled": true
   },
   "outputs": [
    {
     "data": {
      "text/plain": [
       "Desktop       184194\n",
       "Mobile App     55595\n",
       "Mobile Web     48063\n",
       "STB            12148\n",
       "Name: self_service_platform, dtype: int64"
      ]
     },
     "execution_count": 250,
     "metadata": {},
     "output_type": "execute_result"
    }
   ],
   "source": [
    "train['self_service_platform'].value_counts()"
   ]
  },
  {
   "cell_type": "code",
   "execution_count": 251,
   "metadata": {},
   "outputs": [],
   "source": [
    "categorical = train.select_dtypes(include=[np.object])\n",
    "categorical = categorical.columns\n",
    "\n",
    "numeric = train.select_dtypes(include=[np.int,np.float])\n",
    "numeric = numeric.columns"
   ]
  },
  {
   "cell_type": "markdown",
   "metadata": {},
   "source": [
    "### Preprocessing"
   ]
  },
  {
   "cell_type": "markdown",
   "metadata": {},
   "source": [
    "### Encoding"
   ]
  },
  {
   "cell_type": "code",
   "execution_count": 252,
   "metadata": {
    "scrolled": true
   },
   "outputs": [
    {
     "data": {
      "text/plain": [
       "Index(['var30', 'var33', 'var34', 'var35', 'var36', 'var37', 'var38', 'var39',\n",
       "       'var40', 'self_service_platform'],\n",
       "      dtype='object')"
      ]
     },
     "execution_count": 252,
     "metadata": {},
     "output_type": "execute_result"
    }
   ],
   "source": [
    "categorical"
   ]
  },
  {
   "cell_type": "code",
   "execution_count": 253,
   "metadata": {},
   "outputs": [
    {
     "name": "stdout",
     "output_type": "stream",
     "text": [
      "no of categories in var30 are 1\n",
      "no of categories in var33 are 6\n",
      "no of categories in var34 are 5\n",
      "no of categories in var35 are 3\n",
      "no of categories in var36 are 14\n",
      "no of categories in var37 are 2\n",
      "no of categories in var38 are 3\n",
      "no of categories in var39 are 5\n",
      "no of categories in var40 are 2\n",
      "no of categories in self_service_platform are 4\n"
     ]
    }
   ],
   "source": [
    "for i in categorical:\n",
    "    print('no of categories in {} are {}'.format(i, train[i].nunique()))"
   ]
  },
  {
   "cell_type": "code",
   "execution_count": 254,
   "metadata": {
    "scrolled": true
   },
   "outputs": [
    {
     "name": "stdout",
     "output_type": "stream",
     "text": [
      "no of categories in var30 are \n",
      " .    300000\n",
      "Name: var30, dtype: int64 \n",
      "\n",
      "no of categories in var33 are \n",
      " other                     272972\n",
      "news_channel1               8285\n",
      "news_channel2               6062\n",
      "entertainment_channel1      5563\n",
      "entertainment_channel2      4904\n",
      "movie_channel1              2214\n",
      "Name: var33, dtype: int64 \n",
      "\n",
      "no of categories in var34 are \n",
      " Never        105758\n",
      "Pending      104447\n",
      "Active        48580\n",
      "Inactive      34526\n",
      "Cancelled      6689\n",
      "Name: var34, dtype: int64 \n",
      "\n",
      "no of categories in var35 are \n",
      " Standard               283150\n",
      "CreditCard              10127\n",
      "Electronic Transfer      6723\n",
      "Name: var35, dtype: int64 \n",
      "\n",
      "no of categories in var36 are \n",
      " Video/Internet                       104654\n",
      "Video/Internet/Voice                  98173\n",
      "Internet Only                         63010\n",
      "Video Only                             9195\n",
      "Internet/Voice                         8072\n",
      "Video/Internet/Voice/Homesecurity      5603\n",
      "Video/Internet/Homesecurity            5153\n",
      "Internet/Homesecurity                   714\n",
      "Video/Voice                             359\n",
      "Homesecurity Only                       160\n",
      "Internet/Voice/Homesecurity             154\n",
      "Voice Only                              107\n",
      "Video/Homesecurity                       10\n",
      "Video/Voice/Homesecurity                  3\n",
      "Name: var36, dtype: int64 \n",
      "\n",
      "no of categories in var37 are \n",
      " N    275860\n",
      "Y      4698\n",
      "Name: var37, dtype: int64 \n",
      "\n",
      "no of categories in var38 are \n",
      " Agent           65235\n",
      "Other           36281\n",
      "Self Service    13332\n",
      "Name: var38, dtype: int64 \n",
      "\n",
      "no of categories in var39 are \n",
      " Single Housing     214816\n",
      "Multi Housing       82374\n",
      "Exclude mapping      2209\n",
      "Other                 310\n",
      "Commercial            269\n",
      "Name: var39, dtype: int64 \n",
      "\n",
      "no of categories in var40 are \n",
      " N    170475\n",
      "Y    129525\n",
      "Name: var40, dtype: int64 \n",
      "\n",
      "no of categories in self_service_platform are \n",
      " Desktop       184194\n",
      "Mobile App     55595\n",
      "Mobile Web     48063\n",
      "STB            12148\n",
      "Name: self_service_platform, dtype: int64 \n",
      "\n"
     ]
    }
   ],
   "source": [
    "for i in categorical:\n",
    "    print('no of categories in {} are \\n {}'.format(i, train[i].value_counts()),'\\n')"
   ]
  },
  {
   "cell_type": "code",
   "execution_count": 255,
   "metadata": {},
   "outputs": [],
   "source": [
    "### remove 30\n",
    "## binary encode - 37, 40"
   ]
  },
  {
   "cell_type": "code",
   "execution_count": 256,
   "metadata": {
    "scrolled": true
   },
   "outputs": [],
   "source": [
    "train.drop(['var30'],axis=1,inplace=True)\n",
    "\n",
    "from sklearn.preprocessing import LabelEncoder\n",
    "\n",
    "for i in categorical.drop(['var30','var37','var40','self_service_platform']):\n",
    "    le = LabelEncoder()\n",
    "    train[i] = le.fit_transform(train[i].astype(str))"
   ]
  },
  {
   "cell_type": "code",
   "execution_count": 257,
   "metadata": {
    "scrolled": true
   },
   "outputs": [],
   "source": [
    "from sklearn.preprocessing import LabelEncoder, LabelBinarizer\n",
    "\n",
    "for i in ['var37','var40']:\n",
    "    le_bin = LabelBinarizer()\n",
    "    train[i] = le_bin.fit_transform(train[i].astype(str))"
   ]
  },
  {
   "cell_type": "code",
   "execution_count": 258,
   "metadata": {
    "scrolled": true
   },
   "outputs": [
    {
     "data": {
      "text/plain": [
       "Desktop       184194\n",
       "Mobile App     55595\n",
       "Mobile Web     48063\n",
       "STB            12148\n",
       "Name: self_service_platform, dtype: int64"
      ]
     },
     "execution_count": 258,
     "metadata": {},
     "output_type": "execute_result"
    }
   ],
   "source": [
    "train['self_service_platform'].value_counts()"
   ]
  },
  {
   "cell_type": "markdown",
   "metadata": {},
   "source": [
    "### Watch Out this step!!!"
   ]
  },
  {
   "cell_type": "code",
   "execution_count": 259,
   "metadata": {},
   "outputs": [],
   "source": [
    "# train.replace(['Mobile App', 'Mobile Web'],['Mobile','Mobile'],inplace=True)"
   ]
  },
  {
   "cell_type": "markdown",
   "metadata": {},
   "source": [
    "###############"
   ]
  },
  {
   "cell_type": "code",
   "execution_count": 260,
   "metadata": {},
   "outputs": [],
   "source": [
    "le_target = LabelEncoder()\n",
    "train['self_service_platform'] = le_target.fit_transform(train['self_service_platform'])"
   ]
  },
  {
   "cell_type": "code",
   "execution_count": 261,
   "metadata": {},
   "outputs": [
    {
     "data": {
      "text/plain": [
       "0    184194\n",
       "1     55595\n",
       "2     48063\n",
       "3     12148\n",
       "Name: self_service_platform, dtype: int64"
      ]
     },
     "execution_count": 261,
     "metadata": {},
     "output_type": "execute_result"
    }
   ],
   "source": [
    "train['self_service_platform'].value_counts()"
   ]
  },
  {
   "cell_type": "markdown",
   "metadata": {},
   "source": [
    "### NaN impute"
   ]
  },
  {
   "cell_type": "code",
   "execution_count": 262,
   "metadata": {
    "scrolled": false
   },
   "outputs": [
    {
     "data": {
      "text/html": [
       "<div>\n",
       "<style scoped>\n",
       "    .dataframe tbody tr th:only-of-type {\n",
       "        vertical-align: middle;\n",
       "    }\n",
       "\n",
       "    .dataframe tbody tr th {\n",
       "        vertical-align: top;\n",
       "    }\n",
       "\n",
       "    .dataframe thead th {\n",
       "        text-align: right;\n",
       "    }\n",
       "</style>\n",
       "<table border=\"1\" class=\"dataframe\">\n",
       "  <thead>\n",
       "    <tr style=\"text-align: right;\">\n",
       "      <th></th>\n",
       "      <th>cust_id</th>\n",
       "      <th>var1</th>\n",
       "      <th>var2</th>\n",
       "      <th>var3</th>\n",
       "      <th>var4</th>\n",
       "      <th>var5</th>\n",
       "      <th>var6</th>\n",
       "      <th>var7</th>\n",
       "      <th>var8</th>\n",
       "      <th>var9</th>\n",
       "      <th>var10</th>\n",
       "      <th>var11</th>\n",
       "      <th>var12</th>\n",
       "      <th>var13</th>\n",
       "      <th>var14</th>\n",
       "      <th>var15</th>\n",
       "      <th>var16</th>\n",
       "      <th>var21</th>\n",
       "      <th>var22</th>\n",
       "      <th>var23</th>\n",
       "      <th>var24</th>\n",
       "      <th>var25</th>\n",
       "      <th>var26</th>\n",
       "      <th>var27</th>\n",
       "      <th>var28</th>\n",
       "      <th>var29</th>\n",
       "      <th>var31</th>\n",
       "      <th>var32</th>\n",
       "      <th>var33</th>\n",
       "      <th>var34</th>\n",
       "      <th>var35</th>\n",
       "      <th>var36</th>\n",
       "      <th>var37</th>\n",
       "      <th>var38</th>\n",
       "      <th>var39</th>\n",
       "      <th>var40</th>\n",
       "      <th>self_service_platform</th>\n",
       "    </tr>\n",
       "  </thead>\n",
       "  <tbody>\n",
       "    <tr>\n",
       "      <th>17</th>\n",
       "      <td>100018</td>\n",
       "      <td>3788</td>\n",
       "      <td>0</td>\n",
       "      <td>1</td>\n",
       "      <td>3550</td>\n",
       "      <td>0</td>\n",
       "      <td>8</td>\n",
       "      <td>1</td>\n",
       "      <td>8</td>\n",
       "      <td>336772</td>\n",
       "      <td>1</td>\n",
       "      <td>0</td>\n",
       "      <td>343</td>\n",
       "      <td>648</td>\n",
       "      <td>0</td>\n",
       "      <td>207</td>\n",
       "      <td>0</td>\n",
       "      <td>21</td>\n",
       "      <td>106281</td>\n",
       "      <td>54</td>\n",
       "      <td>NaN</td>\n",
       "      <td>0</td>\n",
       "      <td>8</td>\n",
       "      <td>177</td>\n",
       "      <td>5</td>\n",
       "      <td>4</td>\n",
       "      <td>0</td>\n",
       "      <td>1</td>\n",
       "      <td>5</td>\n",
       "      <td>4</td>\n",
       "      <td>2</td>\n",
       "      <td>9</td>\n",
       "      <td>1</td>\n",
       "      <td>3</td>\n",
       "      <td>4</td>\n",
       "      <td>0</td>\n",
       "      <td>0</td>\n",
       "    </tr>\n",
       "    <tr>\n",
       "      <th>66</th>\n",
       "      <td>100067</td>\n",
       "      <td>3900</td>\n",
       "      <td>0</td>\n",
       "      <td>0</td>\n",
       "      <td>3625</td>\n",
       "      <td>0</td>\n",
       "      <td>7</td>\n",
       "      <td>0</td>\n",
       "      <td>10</td>\n",
       "      <td>342015</td>\n",
       "      <td>0</td>\n",
       "      <td>0</td>\n",
       "      <td>343</td>\n",
       "      <td>659</td>\n",
       "      <td>1</td>\n",
       "      <td>212</td>\n",
       "      <td>0</td>\n",
       "      <td>21</td>\n",
       "      <td>105229</td>\n",
       "      <td>57</td>\n",
       "      <td>NaN</td>\n",
       "      <td>0</td>\n",
       "      <td>7</td>\n",
       "      <td>181</td>\n",
       "      <td>4</td>\n",
       "      <td>2</td>\n",
       "      <td>0</td>\n",
       "      <td>1</td>\n",
       "      <td>5</td>\n",
       "      <td>4</td>\n",
       "      <td>2</td>\n",
       "      <td>1</td>\n",
       "      <td>1</td>\n",
       "      <td>3</td>\n",
       "      <td>2</td>\n",
       "      <td>0</td>\n",
       "      <td>0</td>\n",
       "    </tr>\n",
       "    <tr>\n",
       "      <th>74</th>\n",
       "      <td>100075</td>\n",
       "      <td>4066</td>\n",
       "      <td>0</td>\n",
       "      <td>1</td>\n",
       "      <td>3217</td>\n",
       "      <td>0</td>\n",
       "      <td>8</td>\n",
       "      <td>0</td>\n",
       "      <td>10</td>\n",
       "      <td>340170</td>\n",
       "      <td>0</td>\n",
       "      <td>0</td>\n",
       "      <td>393</td>\n",
       "      <td>701</td>\n",
       "      <td>1</td>\n",
       "      <td>209</td>\n",
       "      <td>0</td>\n",
       "      <td>19</td>\n",
       "      <td>106670</td>\n",
       "      <td>58</td>\n",
       "      <td>NaN</td>\n",
       "      <td>0</td>\n",
       "      <td>8</td>\n",
       "      <td>170</td>\n",
       "      <td>5</td>\n",
       "      <td>4</td>\n",
       "      <td>0</td>\n",
       "      <td>1</td>\n",
       "      <td>5</td>\n",
       "      <td>1</td>\n",
       "      <td>2</td>\n",
       "      <td>7</td>\n",
       "      <td>1</td>\n",
       "      <td>3</td>\n",
       "      <td>2</td>\n",
       "      <td>0</td>\n",
       "      <td>0</td>\n",
       "    </tr>\n",
       "    <tr>\n",
       "      <th>83</th>\n",
       "      <td>100084</td>\n",
       "      <td>3793</td>\n",
       "      <td>0</td>\n",
       "      <td>0</td>\n",
       "      <td>3397</td>\n",
       "      <td>0</td>\n",
       "      <td>7</td>\n",
       "      <td>0</td>\n",
       "      <td>9</td>\n",
       "      <td>347052</td>\n",
       "      <td>0</td>\n",
       "      <td>0</td>\n",
       "      <td>343</td>\n",
       "      <td>669</td>\n",
       "      <td>1</td>\n",
       "      <td>198</td>\n",
       "      <td>0</td>\n",
       "      <td>19</td>\n",
       "      <td>106613</td>\n",
       "      <td>52</td>\n",
       "      <td>NaN</td>\n",
       "      <td>0</td>\n",
       "      <td>8</td>\n",
       "      <td>180</td>\n",
       "      <td>2</td>\n",
       "      <td>2</td>\n",
       "      <td>0</td>\n",
       "      <td>1</td>\n",
       "      <td>4</td>\n",
       "      <td>0</td>\n",
       "      <td>2</td>\n",
       "      <td>10</td>\n",
       "      <td>1</td>\n",
       "      <td>3</td>\n",
       "      <td>4</td>\n",
       "      <td>1</td>\n",
       "      <td>0</td>\n",
       "    </tr>\n",
       "    <tr>\n",
       "      <th>123</th>\n",
       "      <td>100124</td>\n",
       "      <td>3893</td>\n",
       "      <td>0</td>\n",
       "      <td>0</td>\n",
       "      <td>3489</td>\n",
       "      <td>0</td>\n",
       "      <td>7</td>\n",
       "      <td>1</td>\n",
       "      <td>9</td>\n",
       "      <td>343461</td>\n",
       "      <td>0</td>\n",
       "      <td>0</td>\n",
       "      <td>393</td>\n",
       "      <td>667</td>\n",
       "      <td>0</td>\n",
       "      <td>209</td>\n",
       "      <td>0</td>\n",
       "      <td>20</td>\n",
       "      <td>106637</td>\n",
       "      <td>57</td>\n",
       "      <td>NaN</td>\n",
       "      <td>0</td>\n",
       "      <td>7</td>\n",
       "      <td>179</td>\n",
       "      <td>2</td>\n",
       "      <td>4</td>\n",
       "      <td>0</td>\n",
       "      <td>0</td>\n",
       "      <td>5</td>\n",
       "      <td>4</td>\n",
       "      <td>2</td>\n",
       "      <td>9</td>\n",
       "      <td>1</td>\n",
       "      <td>3</td>\n",
       "      <td>2</td>\n",
       "      <td>0</td>\n",
       "      <td>0</td>\n",
       "    </tr>\n",
       "    <tr>\n",
       "      <th>...</th>\n",
       "      <td>...</td>\n",
       "      <td>...</td>\n",
       "      <td>...</td>\n",
       "      <td>...</td>\n",
       "      <td>...</td>\n",
       "      <td>...</td>\n",
       "      <td>...</td>\n",
       "      <td>...</td>\n",
       "      <td>...</td>\n",
       "      <td>...</td>\n",
       "      <td>...</td>\n",
       "      <td>...</td>\n",
       "      <td>...</td>\n",
       "      <td>...</td>\n",
       "      <td>...</td>\n",
       "      <td>...</td>\n",
       "      <td>...</td>\n",
       "      <td>...</td>\n",
       "      <td>...</td>\n",
       "      <td>...</td>\n",
       "      <td>...</td>\n",
       "      <td>...</td>\n",
       "      <td>...</td>\n",
       "      <td>...</td>\n",
       "      <td>...</td>\n",
       "      <td>...</td>\n",
       "      <td>...</td>\n",
       "      <td>...</td>\n",
       "      <td>...</td>\n",
       "      <td>...</td>\n",
       "      <td>...</td>\n",
       "      <td>...</td>\n",
       "      <td>...</td>\n",
       "      <td>...</td>\n",
       "      <td>...</td>\n",
       "      <td>...</td>\n",
       "      <td>...</td>\n",
       "    </tr>\n",
       "    <tr>\n",
       "      <th>299902</th>\n",
       "      <td>399903</td>\n",
       "      <td>3842</td>\n",
       "      <td>0</td>\n",
       "      <td>1</td>\n",
       "      <td>3392</td>\n",
       "      <td>0</td>\n",
       "      <td>8</td>\n",
       "      <td>1</td>\n",
       "      <td>9</td>\n",
       "      <td>344112</td>\n",
       "      <td>1</td>\n",
       "      <td>0</td>\n",
       "      <td>393</td>\n",
       "      <td>655</td>\n",
       "      <td>1</td>\n",
       "      <td>211</td>\n",
       "      <td>0</td>\n",
       "      <td>21</td>\n",
       "      <td>108150</td>\n",
       "      <td>52</td>\n",
       "      <td>NaN</td>\n",
       "      <td>0</td>\n",
       "      <td>8</td>\n",
       "      <td>180</td>\n",
       "      <td>5</td>\n",
       "      <td>5</td>\n",
       "      <td>0</td>\n",
       "      <td>1</td>\n",
       "      <td>5</td>\n",
       "      <td>3</td>\n",
       "      <td>2</td>\n",
       "      <td>9</td>\n",
       "      <td>1</td>\n",
       "      <td>0</td>\n",
       "      <td>4</td>\n",
       "      <td>0</td>\n",
       "      <td>0</td>\n",
       "    </tr>\n",
       "    <tr>\n",
       "      <th>299911</th>\n",
       "      <td>399912</td>\n",
       "      <td>4172</td>\n",
       "      <td>0</td>\n",
       "      <td>1</td>\n",
       "      <td>3307</td>\n",
       "      <td>0</td>\n",
       "      <td>7</td>\n",
       "      <td>0</td>\n",
       "      <td>10</td>\n",
       "      <td>342575</td>\n",
       "      <td>1</td>\n",
       "      <td>0</td>\n",
       "      <td>333</td>\n",
       "      <td>649</td>\n",
       "      <td>1</td>\n",
       "      <td>211</td>\n",
       "      <td>0</td>\n",
       "      <td>21</td>\n",
       "      <td>106555</td>\n",
       "      <td>56</td>\n",
       "      <td>NaN</td>\n",
       "      <td>0</td>\n",
       "      <td>8</td>\n",
       "      <td>170</td>\n",
       "      <td>2</td>\n",
       "      <td>5</td>\n",
       "      <td>0</td>\n",
       "      <td>1</td>\n",
       "      <td>5</td>\n",
       "      <td>3</td>\n",
       "      <td>2</td>\n",
       "      <td>7</td>\n",
       "      <td>0</td>\n",
       "      <td>3</td>\n",
       "      <td>4</td>\n",
       "      <td>1</td>\n",
       "      <td>0</td>\n",
       "    </tr>\n",
       "    <tr>\n",
       "      <th>299970</th>\n",
       "      <td>399971</td>\n",
       "      <td>4277</td>\n",
       "      <td>0</td>\n",
       "      <td>0</td>\n",
       "      <td>3356</td>\n",
       "      <td>0</td>\n",
       "      <td>7</td>\n",
       "      <td>0</td>\n",
       "      <td>8</td>\n",
       "      <td>342120</td>\n",
       "      <td>1</td>\n",
       "      <td>0</td>\n",
       "      <td>347</td>\n",
       "      <td>652</td>\n",
       "      <td>1</td>\n",
       "      <td>200</td>\n",
       "      <td>0</td>\n",
       "      <td>21</td>\n",
       "      <td>105595</td>\n",
       "      <td>55</td>\n",
       "      <td>NaN</td>\n",
       "      <td>0</td>\n",
       "      <td>8</td>\n",
       "      <td>171</td>\n",
       "      <td>6</td>\n",
       "      <td>3</td>\n",
       "      <td>0</td>\n",
       "      <td>1</td>\n",
       "      <td>5</td>\n",
       "      <td>3</td>\n",
       "      <td>2</td>\n",
       "      <td>9</td>\n",
       "      <td>1</td>\n",
       "      <td>1</td>\n",
       "      <td>2</td>\n",
       "      <td>0</td>\n",
       "      <td>0</td>\n",
       "    </tr>\n",
       "    <tr>\n",
       "      <th>299993</th>\n",
       "      <td>399994</td>\n",
       "      <td>4273</td>\n",
       "      <td>0</td>\n",
       "      <td>0</td>\n",
       "      <td>3192</td>\n",
       "      <td>0</td>\n",
       "      <td>7</td>\n",
       "      <td>0</td>\n",
       "      <td>10</td>\n",
       "      <td>340542</td>\n",
       "      <td>0</td>\n",
       "      <td>0</td>\n",
       "      <td>396</td>\n",
       "      <td>646</td>\n",
       "      <td>0</td>\n",
       "      <td>209</td>\n",
       "      <td>0</td>\n",
       "      <td>21</td>\n",
       "      <td>107295</td>\n",
       "      <td>54</td>\n",
       "      <td>NaN</td>\n",
       "      <td>0</td>\n",
       "      <td>7</td>\n",
       "      <td>177</td>\n",
       "      <td>4</td>\n",
       "      <td>3</td>\n",
       "      <td>0</td>\n",
       "      <td>0</td>\n",
       "      <td>5</td>\n",
       "      <td>0</td>\n",
       "      <td>2</td>\n",
       "      <td>9</td>\n",
       "      <td>1</td>\n",
       "      <td>3</td>\n",
       "      <td>2</td>\n",
       "      <td>0</td>\n",
       "      <td>0</td>\n",
       "    </tr>\n",
       "    <tr>\n",
       "      <th>299996</th>\n",
       "      <td>399997</td>\n",
       "      <td>4083</td>\n",
       "      <td>0</td>\n",
       "      <td>0</td>\n",
       "      <td>3244</td>\n",
       "      <td>0</td>\n",
       "      <td>8</td>\n",
       "      <td>0</td>\n",
       "      <td>10</td>\n",
       "      <td>349569</td>\n",
       "      <td>1</td>\n",
       "      <td>0</td>\n",
       "      <td>332</td>\n",
       "      <td>691</td>\n",
       "      <td>1</td>\n",
       "      <td>212</td>\n",
       "      <td>0</td>\n",
       "      <td>20</td>\n",
       "      <td>108589</td>\n",
       "      <td>57</td>\n",
       "      <td>NaN</td>\n",
       "      <td>0</td>\n",
       "      <td>7</td>\n",
       "      <td>177</td>\n",
       "      <td>6</td>\n",
       "      <td>5</td>\n",
       "      <td>0</td>\n",
       "      <td>0</td>\n",
       "      <td>5</td>\n",
       "      <td>4</td>\n",
       "      <td>2</td>\n",
       "      <td>1</td>\n",
       "      <td>1</td>\n",
       "      <td>3</td>\n",
       "      <td>4</td>\n",
       "      <td>0</td>\n",
       "      <td>2</td>\n",
       "    </tr>\n",
       "  </tbody>\n",
       "</table>\n",
       "<p>9916 rows × 37 columns</p>\n",
       "</div>"
      ],
      "text/plain": [
       "        cust_id  var1  var2  var3  var4  var5  var6  var7  var8    var9  \\\n",
       "17       100018  3788     0     1  3550     0     8     1     8  336772   \n",
       "66       100067  3900     0     0  3625     0     7     0    10  342015   \n",
       "74       100075  4066     0     1  3217     0     8     0    10  340170   \n",
       "83       100084  3793     0     0  3397     0     7     0     9  347052   \n",
       "123      100124  3893     0     0  3489     0     7     1     9  343461   \n",
       "...         ...   ...   ...   ...   ...   ...   ...   ...   ...     ...   \n",
       "299902   399903  3842     0     1  3392     0     8     1     9  344112   \n",
       "299911   399912  4172     0     1  3307     0     7     0    10  342575   \n",
       "299970   399971  4277     0     0  3356     0     7     0     8  342120   \n",
       "299993   399994  4273     0     0  3192     0     7     0    10  340542   \n",
       "299996   399997  4083     0     0  3244     0     8     0    10  349569   \n",
       "\n",
       "        var10  var11  var12  var13  var14  var15  var16  var21   var22  var23  \\\n",
       "17          1      0    343    648      0    207      0     21  106281     54   \n",
       "66          0      0    343    659      1    212      0     21  105229     57   \n",
       "74          0      0    393    701      1    209      0     19  106670     58   \n",
       "83          0      0    343    669      1    198      0     19  106613     52   \n",
       "123         0      0    393    667      0    209      0     20  106637     57   \n",
       "...       ...    ...    ...    ...    ...    ...    ...    ...     ...    ...   \n",
       "299902      1      0    393    655      1    211      0     21  108150     52   \n",
       "299911      1      0    333    649      1    211      0     21  106555     56   \n",
       "299970      1      0    347    652      1    200      0     21  105595     55   \n",
       "299993      0      0    396    646      0    209      0     21  107295     54   \n",
       "299996      1      0    332    691      1    212      0     20  108589     57   \n",
       "\n",
       "        var24  var25  var26  var27  var28  var29  var31  var32  var33  var34  \\\n",
       "17        NaN      0      8    177      5      4      0      1      5      4   \n",
       "66        NaN      0      7    181      4      2      0      1      5      4   \n",
       "74        NaN      0      8    170      5      4      0      1      5      1   \n",
       "83        NaN      0      8    180      2      2      0      1      4      0   \n",
       "123       NaN      0      7    179      2      4      0      0      5      4   \n",
       "...       ...    ...    ...    ...    ...    ...    ...    ...    ...    ...   \n",
       "299902    NaN      0      8    180      5      5      0      1      5      3   \n",
       "299911    NaN      0      8    170      2      5      0      1      5      3   \n",
       "299970    NaN      0      8    171      6      3      0      1      5      3   \n",
       "299993    NaN      0      7    177      4      3      0      0      5      0   \n",
       "299996    NaN      0      7    177      6      5      0      0      5      4   \n",
       "\n",
       "        var35  var36  var37  var38  var39  var40  self_service_platform  \n",
       "17          2      9      1      3      4      0                      0  \n",
       "66          2      1      1      3      2      0                      0  \n",
       "74          2      7      1      3      2      0                      0  \n",
       "83          2     10      1      3      4      1                      0  \n",
       "123         2      9      1      3      2      0                      0  \n",
       "...       ...    ...    ...    ...    ...    ...                    ...  \n",
       "299902      2      9      1      0      4      0                      0  \n",
       "299911      2      7      0      3      4      1                      0  \n",
       "299970      2      9      1      1      2      0                      0  \n",
       "299993      2      9      1      3      2      0                      0  \n",
       "299996      2      1      1      3      4      0                      2  \n",
       "\n",
       "[9916 rows x 37 columns]"
      ]
     },
     "execution_count": 262,
     "metadata": {},
     "output_type": "execute_result"
    }
   ],
   "source": [
    "train[train['var24'].isna()]"
   ]
  },
  {
   "cell_type": "code",
   "execution_count": 263,
   "metadata": {},
   "outputs": [
    {
     "data": {
      "text/plain": [
       "count      9916.000000\n",
       "mean     346832.164986\n",
       "std        5943.566126\n",
       "min      336543.000000\n",
       "25%      341680.750000\n",
       "50%      346922.500000\n",
       "75%      351956.500000\n",
       "max      357025.000000\n",
       "Name: var9, dtype: float64"
      ]
     },
     "execution_count": 263,
     "metadata": {},
     "output_type": "execute_result"
    }
   ],
   "source": [
    "train[train['var24'].isna()]['var9'].describe()"
   ]
  },
  {
   "cell_type": "code",
   "execution_count": 264,
   "metadata": {},
   "outputs": [
    {
     "data": {
      "text/plain": [
       "0    7940\n",
       "1     880\n",
       "2     829\n",
       "3     267\n",
       "Name: self_service_platform, dtype: int64"
      ]
     },
     "execution_count": 264,
     "metadata": {},
     "output_type": "execute_result"
    }
   ],
   "source": [
    "train[train['var24'].isna()]['self_service_platform'].value_counts()"
   ]
  },
  {
   "cell_type": "code",
   "execution_count": 265,
   "metadata": {
    "scrolled": false
   },
   "outputs": [
    {
     "data": {
      "text/plain": [
       "count    9916.00000\n",
       "mean      175.50363\n",
       "std         3.43605\n",
       "min       170.00000\n",
       "25%       173.00000\n",
       "50%       175.00000\n",
       "75%       179.00000\n",
       "max       181.00000\n",
       "Name: var27, dtype: float64"
      ]
     },
     "execution_count": 265,
     "metadata": {},
     "output_type": "execute_result"
    }
   ],
   "source": [
    "train[train['var24'].isna()]['var27'].describe()"
   ]
  },
  {
   "cell_type": "code",
   "execution_count": 266,
   "metadata": {},
   "outputs": [],
   "source": [
    "#### exceptional behaviour"
   ]
  },
  {
   "cell_type": "code",
   "execution_count": 267,
   "metadata": {},
   "outputs": [],
   "source": [
    "# train['var24'].fillna(-999,inplace=True)"
   ]
  },
  {
   "cell_type": "markdown",
   "metadata": {},
   "source": [
    "### FE"
   ]
  },
  {
   "cell_type": "code",
   "execution_count": null,
   "metadata": {},
   "outputs": [],
   "source": []
  },
  {
   "cell_type": "code",
   "execution_count": 268,
   "metadata": {},
   "outputs": [],
   "source": [
    "# ## didnt perform good\n",
    "# train['total_devices'] = train['var3'] + train['var11']\n",
    "# train['more_vod'] = (train['var8']>23).astype(int)\n",
    "\n",
    "# train['device_cat'] = pd.cut(train['var11'], bins=[-1,3,8,12],labels=[1,2,3])\n",
    "# train = pd.get_dummies(train,columns=['device_cat'])\n",
    "\n",
    "# train['var5_bin'] = pd.cut(train['var5'],bins=[-1,5,14,18,20],labels=[1,2,3,4])\n",
    "# train['voice_indicator'] = ((train['var5']>4) & (train['var5']<18)).astype(int)\n",
    "# train['display_indicator'] = ((train['var11']>3) & (train['var11']<9)).astype(int)\n",
    "\n",
    "# train['percent_video_issue'] = train['var15']/train['var26']\n",
    "\n",
    "# train['percent_ivr_issues'] = train['var10']/train['var26']\n",
    "\n",
    "# train['total_video_tenure'] = train['var13']/(train['var1'])\n",
    "\n",
    "# train['email_per_std'] = train['var7']/(train['var6'])\n",
    "\n",
    "# train['income_by_home'] = train['var22']/train['var9']\n",
    "\n",
    "# train['customer_interaction']=train['var29']+train['var26']\n",
    "\n",
    "# train['self_service'] = train['var38'].apply(lambda x:'self_service' if x==2 else x  )\n",
    "# train['self_service'].replace([3,1,0,'self_service'],[0,0,0,1],inplace=True)\n",
    "\n",
    "# train['video_centric']=train['var8']+train['var15']+train['var14']\n",
    "\n",
    "# train['economic_standing']=((train['var6']+1)*(train['var22']+train['var9'])*(train['var27']))/((train['var21']+1)/100)"
   ]
  },
  {
   "cell_type": "code",
   "execution_count": 269,
   "metadata": {},
   "outputs": [],
   "source": [
    "### currently under experiment\n",
    "train['economic_standing']=((train['var6']+1)*(train['var22']+train['var9'])*(train['var27']))/((train['var21']+1)/100)"
   ]
  },
  {
   "cell_type": "code",
   "execution_count": 270,
   "metadata": {},
   "outputs": [],
   "source": [
    "#######performed better\n",
    "train['load'] = (train['var27']/train['var22'])*100\n",
    "train['status_vs_loyal'] = train['var21']/(train['var6']+1)\n",
    "train['connect_per_device'] = train['var4']/(train['var11']+1)\n"
   ]
  },
  {
   "cell_type": "markdown",
   "metadata": {},
   "source": [
    "### Model Building Part 1"
   ]
  },
  {
   "cell_type": "code",
   "execution_count": null,
   "metadata": {},
   "outputs": [],
   "source": []
  },
  {
   "cell_type": "code",
   "execution_count": 271,
   "metadata": {
    "scrolled": true
   },
   "outputs": [
    {
     "data": {
      "text/plain": [
       "Index(['cust_id', 'var1', 'var2', 'var3', 'var4', 'var5', 'var6', 'var7',\n",
       "       'var8', 'var9', 'var10', 'var11', 'var12', 'var13', 'var14', 'var15',\n",
       "       'var16', 'var21', 'var22', 'var23', 'var24', 'var25', 'var26', 'var27',\n",
       "       'var28', 'var29', 'var31', 'var32', 'var33', 'var34', 'var35', 'var36',\n",
       "       'var37', 'var38', 'var39', 'var40', 'self_service_platform',\n",
       "       'economic_standing', 'load', 'status_vs_loyal', 'connect_per_device'],\n",
       "      dtype='object')"
      ]
     },
     "execution_count": 271,
     "metadata": {},
     "output_type": "execute_result"
    }
   ],
   "source": [
    "train.columns"
   ]
  },
  {
   "cell_type": "code",
   "execution_count": 272,
   "metadata": {
    "scrolled": true
   },
   "outputs": [],
   "source": [
    "from sklearn.model_selection import train_test_split\n",
    "\n",
    "x_t,x_v, y_t, y_v = train_test_split(train.drop(['cust_id','self_service_platform'],axis=1),train['self_service_platform'],test_size=0.2,random_state=353)\n",
    "\n"
   ]
  },
  {
   "cell_type": "code",
   "execution_count": 273,
   "metadata": {
    "scrolled": true
   },
   "outputs": [
    {
     "name": "stdout",
     "output_type": "stream",
     "text": [
      "Wall time: 17.4 s\n"
     ]
    },
    {
     "data": {
      "text/plain": [
       "0.7450791666666666"
      ]
     },
     "execution_count": 273,
     "metadata": {},
     "output_type": "execute_result"
    }
   ],
   "source": [
    "%%time\n",
    "from xgboost import XGBClassifier\n",
    "from lightgbm import LGBMClassifier\n",
    "\n",
    "# model = XGBClassifier(n_estimators=300)\n",
    "model = LGBMClassifier(n_estimators=100)\n",
    "model.fit(x_t,y_t)\n",
    "\n",
    "model.score(x_t,y_t)"
   ]
  },
  {
   "cell_type": "code",
   "execution_count": 274,
   "metadata": {
    "scrolled": true
   },
   "outputs": [
    {
     "data": {
      "text/plain": [
       "0.7485166666666667"
      ]
     },
     "execution_count": 274,
     "metadata": {},
     "output_type": "execute_result"
    }
   ],
   "source": [
    "model.score(x_v,y_v)"
   ]
  },
  {
   "cell_type": "code",
   "execution_count": 275,
   "metadata": {},
   "outputs": [],
   "source": [
    "### XGB\n",
    "# 0.7760666666666667 - No FE at all with only three classes (mobile combined)\n",
    "# 0.7762833333333333 - With display indicator 3 classes\n",
    "# 0.7757666666666667 - with loyalty and display_indicator 3 classes\n",
    "\n",
    "# 0.74565 - with loyalty and display indicator 4 classes\n",
    "\n",
    "### LGBM\n",
    "# 0.7491 - with load and status_vs_loyal and connect_per_device\n",
    "# 0.7490166666666667 - with load and status_vs_loyal\n",
    "# 0.7488666666666667 - with load\n",
    "# 0.7484166666666666 - only with loyalty 4 classes\n",
    "# 0.7483666666666666 - with loyalty and display indicator 4 classes\n",
    "# 0.7487666666666667 - with no FE at all\n",
    "\n",
    "\n",
    "\n",
    "\n"
   ]
  },
  {
   "cell_type": "code",
   "execution_count": 276,
   "metadata": {
    "scrolled": false
   },
   "outputs": [
    {
     "data": {
      "text/plain": [
       "0.7485166666666667"
      ]
     },
     "execution_count": 276,
     "metadata": {},
     "output_type": "execute_result"
    }
   ],
   "source": [
    "from sklearn.metrics import f1_score, confusion_matrix, accuracy_score\n",
    "\n",
    "preds = model.predict(x_v)\n",
    "accuracy_score(preds,y_v)"
   ]
  },
  {
   "cell_type": "code",
   "execution_count": 277,
   "metadata": {
    "scrolled": false
   },
   "outputs": [
    {
     "data": {
      "text/plain": [
       "array([[32265,  3788,  3361,  1079],\n",
       "       [ 2318,  6429,   845,   270],\n",
       "       [ 1933,   754,  5368,   210],\n",
       "       [  317,   102,   112,   849]], dtype=int64)"
      ]
     },
     "execution_count": 277,
     "metadata": {},
     "output_type": "execute_result"
    }
   ],
   "source": [
    "confusion_matrix(preds,y_v)"
   ]
  },
  {
   "cell_type": "code",
   "execution_count": 238,
   "metadata": {},
   "outputs": [],
   "source": [
    "###LGBM\n",
    "# array([[32241,  3767,  3320,  1073],\n",
    "#        [ 2327,  6466,   865,   274],\n",
    "#        [ 1947,   738,  5389,   211],\n",
    "#        [  318,   102,   112,   850]]) - with load and status_vs_loyal and connect_per_device\n",
    "\n",
    "# array([[32247,  3781,  3329,  1078],\n",
    "#        [ 2319,  6445,   847,   271],\n",
    "#        [ 1949,   745,  5399,   209],\n",
    "#        [  318,   102,   111,   850]]) - with load and status_vs_loyal\n",
    "\n",
    "# array([[32259,  3777,  3356,  1073],\n",
    "#        [ 2318,  6446,   843,   271],\n",
    "#        [ 1936,   748,  5375,   212],\n",
    "#        [  320,   102,   112,   852]]) - with load\n",
    "\n",
    "# array([[32239,  3766,  3323,  1077],\n",
    "#        [ 2325,  6439,   850,   273],\n",
    "#        [ 1951,   767,  5401,   211],\n",
    "#        [  318,   101,   112,   847]])\n",
    "# with no FE at all\n",
    "\n",
    "# array([[32232,  3774,  3317,  1075],\n",
    "#        [ 2329,  6442,   878,   274],\n",
    "#        [ 1954,   756,  5379,   210],\n",
    "#        [  318,   101,   112,   849]])\n",
    "\n",
    "# array([[32234,  3779,  3314,  1073],\n",
    "#        [ 2327,  6443,   882,   274],\n",
    "#        [ 1954,   750,  5378,   211],\n",
    "#        [  318,   101,   112,   850]]) - with loyalty 4 classes\n",
    "\n"
   ]
  },
  {
   "cell_type": "code",
   "execution_count": 278,
   "metadata": {},
   "outputs": [],
   "source": [
    "### xgb\n",
    "# array([[32329,  3862,  3560,  1088],\n",
    "#        [ 2297,  6379,   842,   273],\n",
    "#        [ 1892,   733,  5173,   206],\n",
    "#        [  315,    99,   111,   841]])\n",
    "# 0.7453666666666666\n",
    "\n",
    "# array([[32150,  6969,  1072],\n",
    "#        [ 4373, 13584,   506],\n",
    "#        [  310,   206,   830]]) - No FE three classes\n",
    "\n",
    "\n",
    "# array([[32150,  6957,  1071],\n",
    "#        [ 4372, 13595,   505],\n",
    "#        [  311,   207,   832]]) - With display_indicator\n",
    "\n",
    "# array([[32325,  3873,  3504,  1092],\n",
    "#        [ 2311,  6355,   855,   274],\n",
    "#        [ 1883,   745,  5216,   199],\n",
    "#        [  314,   100,   111,   843]]) - with display_ind and loyalty\n",
    "\n"
   ]
  },
  {
   "cell_type": "code",
   "execution_count": 279,
   "metadata": {
    "scrolled": true
   },
   "outputs": [
    {
     "data": {
      "text/plain": [
       "0    184194\n",
       "1     55595\n",
       "2     48063\n",
       "3     12148\n",
       "Name: self_service_platform, dtype: int64"
      ]
     },
     "execution_count": 279,
     "metadata": {},
     "output_type": "execute_result"
    }
   ],
   "source": [
    "train['self_service_platform'].value_counts()"
   ]
  },
  {
   "cell_type": "code",
   "execution_count": 280,
   "metadata": {
    "scrolled": true
   },
   "outputs": [
    {
     "data": {
      "text/plain": [
       "0    36833\n",
       "1    11073\n",
       "2     9686\n",
       "3     2408\n",
       "Name: self_service_platform, dtype: int64"
      ]
     },
     "execution_count": 280,
     "metadata": {},
     "output_type": "execute_result"
    }
   ],
   "source": [
    "y_v.value_counts()"
   ]
  },
  {
   "cell_type": "code",
   "execution_count": 281,
   "metadata": {
    "scrolled": true
   },
   "outputs": [
    {
     "data": {
      "image/png": "[encoded data removed]",
      "text/plain": [
       "<Figure size 900x1050 with 1 Axes>"
      ]
     },
     "metadata": {
      "needs_background": "light"
     },
     "output_type": "display_data"
    }
   ],
   "source": [
    "features = x_t.columns\n",
    "importances = model.feature_importances_\n",
    "indices = np.argsort(importances)\n",
    "\n",
    "plt.figure(figsize=(6,7))\n",
    "plt.title('Feature Importances')\n",
    "plt.barh(range(len(indices)), importances[indices], color='b', align='center')\n",
    "plt.yticks(range(len(indices)), [features[i] for i in indices])\n",
    "plt.xlabel('Relative Importance')\n",
    "plt.show()\n"
   ]
  },
  {
   "cell_type": "markdown",
   "metadata": {},
   "source": [
    "### Lets inspect the inaccurate preds"
   ]
  },
  {
   "cell_type": "code",
   "execution_count": 40,
   "metadata": {},
   "outputs": [],
   "source": [
    "x_v.reset_index(drop=True,inplace=True)\n",
    "x_t.reset_index(drop=True,inplace=True)\n",
    "\n",
    "y_v.reset_index(drop=True,inplace=True)\n",
    "y_t.reset_index(drop=True,inplace=True)"
   ]
  },
  {
   "cell_type": "code",
   "execution_count": 41,
   "metadata": {},
   "outputs": [],
   "source": [
    "preds = pd.Series(preds)"
   ]
  },
  {
   "cell_type": "code",
   "execution_count": 42,
   "metadata": {
    "scrolled": false
   },
   "outputs": [
    {
     "data": {
      "text/plain": [
       "0    184194\n",
       "1     55595\n",
       "2     48063\n",
       "3     12148\n",
       "Name: self_service_platform, dtype: int64"
      ]
     },
     "execution_count": 42,
     "metadata": {},
     "output_type": "execute_result"
    }
   ],
   "source": [
    "train['self_service_platform'].value_counts()\n",
    "\n",
    "# Desktop       184194\n",
    "# Mobile App     55595\n",
    "# Mobile Web     48063\n",
    "# STB            12148"
   ]
  },
  {
   "cell_type": "code",
   "execution_count": null,
   "metadata": {
    "scrolled": true
   },
   "outputs": [],
   "source": []
  },
  {
   "cell_type": "code",
   "execution_count": 43,
   "metadata": {
    "scrolled": true
   },
   "outputs": [],
   "source": [
    "bad_preds = x_v[y_v!=preds]\n",
    "\n",
    "bad_preds['truth'] = y_v[y_v!=preds]\n",
    "bad_preds['preds'] = preds[y_v!=preds]"
   ]
  },
  {
   "cell_type": "code",
   "execution_count": null,
   "metadata": {},
   "outputs": [],
   "source": []
  },
  {
   "cell_type": "code",
   "execution_count": 44,
   "metadata": {},
   "outputs": [],
   "source": [
    "bad_preds[['truth','preds']] = bad_preds[['truth','preds']].replace([0,1,2,3],['Desktop','Mobile App','Mobile Web','STB'])"
   ]
  },
  {
   "cell_type": "code",
   "execution_count": 45,
   "metadata": {
    "scrolled": true
   },
   "outputs": [],
   "source": [
    "# bad_preds.to_csv('exl_bad_preds.csv',index=False,header=True)"
   ]
  },
  {
   "cell_type": "code",
   "execution_count": 46,
   "metadata": {},
   "outputs": [
    {
     "data": {
      "text/html": [
       "<div>\n",
       "<style scoped>\n",
       "    .dataframe tbody tr th:only-of-type {\n",
       "        vertical-align: middle;\n",
       "    }\n",
       "\n",
       "    .dataframe tbody tr th {\n",
       "        vertical-align: top;\n",
       "    }\n",
       "\n",
       "    .dataframe thead th {\n",
       "        text-align: right;\n",
       "    }\n",
       "</style>\n",
       "<table border=\"1\" class=\"dataframe\">\n",
       "  <thead>\n",
       "    <tr style=\"text-align: right;\">\n",
       "      <th></th>\n",
       "      <th>var1</th>\n",
       "      <th>var2</th>\n",
       "      <th>var3</th>\n",
       "      <th>var4</th>\n",
       "      <th>var5</th>\n",
       "      <th>var6</th>\n",
       "      <th>var7</th>\n",
       "      <th>var8</th>\n",
       "      <th>var9</th>\n",
       "      <th>var10</th>\n",
       "      <th>var11</th>\n",
       "      <th>var12</th>\n",
       "      <th>var13</th>\n",
       "      <th>var14</th>\n",
       "      <th>var15</th>\n",
       "      <th>var16</th>\n",
       "      <th>var21</th>\n",
       "      <th>var22</th>\n",
       "      <th>var23</th>\n",
       "      <th>var24</th>\n",
       "      <th>var25</th>\n",
       "      <th>var26</th>\n",
       "      <th>var27</th>\n",
       "      <th>var28</th>\n",
       "      <th>var29</th>\n",
       "      <th>var31</th>\n",
       "      <th>var32</th>\n",
       "      <th>var33</th>\n",
       "      <th>var34</th>\n",
       "      <th>var35</th>\n",
       "      <th>var36</th>\n",
       "      <th>var37</th>\n",
       "      <th>var38</th>\n",
       "      <th>var39</th>\n",
       "      <th>var40</th>\n",
       "      <th>load</th>\n",
       "      <th>status_vs_loyal</th>\n",
       "      <th>connect_per_device</th>\n",
       "      <th>truth</th>\n",
       "      <th>preds</th>\n",
       "    </tr>\n",
       "  </thead>\n",
       "  <tbody>\n",
       "    <tr>\n",
       "      <th>6</th>\n",
       "      <td>12434</td>\n",
       "      <td>11</td>\n",
       "      <td>1</td>\n",
       "      <td>23902</td>\n",
       "      <td>4</td>\n",
       "      <td>8</td>\n",
       "      <td>14</td>\n",
       "      <td>246</td>\n",
       "      <td>465758</td>\n",
       "      <td>45</td>\n",
       "      <td>7</td>\n",
       "      <td>6860</td>\n",
       "      <td>1156</td>\n",
       "      <td>3</td>\n",
       "      <td>531</td>\n",
       "      <td>1</td>\n",
       "      <td>75</td>\n",
       "      <td>122176</td>\n",
       "      <td>95</td>\n",
       "      <td>24.0</td>\n",
       "      <td>1</td>\n",
       "      <td>237</td>\n",
       "      <td>229</td>\n",
       "      <td>150</td>\n",
       "      <td>279</td>\n",
       "      <td>10</td>\n",
       "      <td>1</td>\n",
       "      <td>5</td>\n",
       "      <td>4</td>\n",
       "      <td>2</td>\n",
       "      <td>3</td>\n",
       "      <td>1</td>\n",
       "      <td>1</td>\n",
       "      <td>4</td>\n",
       "      <td>1</td>\n",
       "      <td>0.187435</td>\n",
       "      <td>8.333333</td>\n",
       "      <td>2987.75</td>\n",
       "      <td>Desktop</td>\n",
       "      <td>Mobile Web</td>\n",
       "    </tr>\n",
       "    <tr>\n",
       "      <th>15</th>\n",
       "      <td>2738</td>\n",
       "      <td>0</td>\n",
       "      <td>0</td>\n",
       "      <td>2323</td>\n",
       "      <td>0</td>\n",
       "      <td>6</td>\n",
       "      <td>0</td>\n",
       "      <td>4</td>\n",
       "      <td>273974</td>\n",
       "      <td>0</td>\n",
       "      <td>0</td>\n",
       "      <td>98</td>\n",
       "      <td>444</td>\n",
       "      <td>0</td>\n",
       "      <td>135</td>\n",
       "      <td>0</td>\n",
       "      <td>11</td>\n",
       "      <td>80562</td>\n",
       "      <td>37</td>\n",
       "      <td>0.0</td>\n",
       "      <td>0</td>\n",
       "      <td>3</td>\n",
       "      <td>151</td>\n",
       "      <td>0</td>\n",
       "      <td>0</td>\n",
       "      <td>0</td>\n",
       "      <td>0</td>\n",
       "      <td>5</td>\n",
       "      <td>3</td>\n",
       "      <td>2</td>\n",
       "      <td>1</td>\n",
       "      <td>1</td>\n",
       "      <td>3</td>\n",
       "      <td>2</td>\n",
       "      <td>0</td>\n",
       "      <td>0.187433</td>\n",
       "      <td>1.571429</td>\n",
       "      <td>2323.00</td>\n",
       "      <td>Mobile App</td>\n",
       "      <td>Desktop</td>\n",
       "    </tr>\n",
       "    <tr>\n",
       "      <th>20</th>\n",
       "      <td>2961</td>\n",
       "      <td>0</td>\n",
       "      <td>1</td>\n",
       "      <td>5970</td>\n",
       "      <td>0</td>\n",
       "      <td>8</td>\n",
       "      <td>0</td>\n",
       "      <td>39</td>\n",
       "      <td>274032</td>\n",
       "      <td>1</td>\n",
       "      <td>0</td>\n",
       "      <td>411</td>\n",
       "      <td>828</td>\n",
       "      <td>0</td>\n",
       "      <td>263</td>\n",
       "      <td>0</td>\n",
       "      <td>53</td>\n",
       "      <td>85042</td>\n",
       "      <td>82</td>\n",
       "      <td>11.0</td>\n",
       "      <td>0</td>\n",
       "      <td>6</td>\n",
       "      <td>186</td>\n",
       "      <td>0</td>\n",
       "      <td>6</td>\n",
       "      <td>0</td>\n",
       "      <td>0</td>\n",
       "      <td>5</td>\n",
       "      <td>4</td>\n",
       "      <td>2</td>\n",
       "      <td>7</td>\n",
       "      <td>1</td>\n",
       "      <td>3</td>\n",
       "      <td>4</td>\n",
       "      <td>0</td>\n",
       "      <td>0.218715</td>\n",
       "      <td>5.888889</td>\n",
       "      <td>5970.00</td>\n",
       "      <td>Desktop</td>\n",
       "      <td>Mobile Web</td>\n",
       "    </tr>\n",
       "    <tr>\n",
       "      <th>29</th>\n",
       "      <td>13274</td>\n",
       "      <td>24</td>\n",
       "      <td>1</td>\n",
       "      <td>33023</td>\n",
       "      <td>0</td>\n",
       "      <td>8</td>\n",
       "      <td>28</td>\n",
       "      <td>369</td>\n",
       "      <td>459639</td>\n",
       "      <td>39</td>\n",
       "      <td>1</td>\n",
       "      <td>6473</td>\n",
       "      <td>1605</td>\n",
       "      <td>1</td>\n",
       "      <td>2249</td>\n",
       "      <td>1</td>\n",
       "      <td>70</td>\n",
       "      <td>212460</td>\n",
       "      <td>95</td>\n",
       "      <td>66.0</td>\n",
       "      <td>0</td>\n",
       "      <td>53</td>\n",
       "      <td>214</td>\n",
       "      <td>193</td>\n",
       "      <td>106</td>\n",
       "      <td>0</td>\n",
       "      <td>1</td>\n",
       "      <td>5</td>\n",
       "      <td>3</td>\n",
       "      <td>2</td>\n",
       "      <td>2</td>\n",
       "      <td>1</td>\n",
       "      <td>3</td>\n",
       "      <td>4</td>\n",
       "      <td>0</td>\n",
       "      <td>0.100725</td>\n",
       "      <td>7.777778</td>\n",
       "      <td>16511.50</td>\n",
       "      <td>Desktop</td>\n",
       "      <td>Mobile Web</td>\n",
       "    </tr>\n",
       "    <tr>\n",
       "      <th>40</th>\n",
       "      <td>340</td>\n",
       "      <td>0</td>\n",
       "      <td>0</td>\n",
       "      <td>901</td>\n",
       "      <td>0</td>\n",
       "      <td>2</td>\n",
       "      <td>0</td>\n",
       "      <td>2</td>\n",
       "      <td>159101</td>\n",
       "      <td>0</td>\n",
       "      <td>0</td>\n",
       "      <td>66</td>\n",
       "      <td>358</td>\n",
       "      <td>0</td>\n",
       "      <td>66</td>\n",
       "      <td>0</td>\n",
       "      <td>16</td>\n",
       "      <td>65543</td>\n",
       "      <td>42</td>\n",
       "      <td>0.0</td>\n",
       "      <td>0</td>\n",
       "      <td>3</td>\n",
       "      <td>76</td>\n",
       "      <td>0</td>\n",
       "      <td>1</td>\n",
       "      <td>0</td>\n",
       "      <td>1</td>\n",
       "      <td>5</td>\n",
       "      <td>2</td>\n",
       "      <td>2</td>\n",
       "      <td>7</td>\n",
       "      <td>1</td>\n",
       "      <td>0</td>\n",
       "      <td>4</td>\n",
       "      <td>1</td>\n",
       "      <td>0.115954</td>\n",
       "      <td>5.333333</td>\n",
       "      <td>901.00</td>\n",
       "      <td>Desktop</td>\n",
       "      <td>Mobile App</td>\n",
       "    </tr>\n",
       "    <tr>\n",
       "      <th>...</th>\n",
       "      <td>...</td>\n",
       "      <td>...</td>\n",
       "      <td>...</td>\n",
       "      <td>...</td>\n",
       "      <td>...</td>\n",
       "      <td>...</td>\n",
       "      <td>...</td>\n",
       "      <td>...</td>\n",
       "      <td>...</td>\n",
       "      <td>...</td>\n",
       "      <td>...</td>\n",
       "      <td>...</td>\n",
       "      <td>...</td>\n",
       "      <td>...</td>\n",
       "      <td>...</td>\n",
       "      <td>...</td>\n",
       "      <td>...</td>\n",
       "      <td>...</td>\n",
       "      <td>...</td>\n",
       "      <td>...</td>\n",
       "      <td>...</td>\n",
       "      <td>...</td>\n",
       "      <td>...</td>\n",
       "      <td>...</td>\n",
       "      <td>...</td>\n",
       "      <td>...</td>\n",
       "      <td>...</td>\n",
       "      <td>...</td>\n",
       "      <td>...</td>\n",
       "      <td>...</td>\n",
       "      <td>...</td>\n",
       "      <td>...</td>\n",
       "      <td>...</td>\n",
       "      <td>...</td>\n",
       "      <td>...</td>\n",
       "      <td>...</td>\n",
       "      <td>...</td>\n",
       "      <td>...</td>\n",
       "      <td>...</td>\n",
       "      <td>...</td>\n",
       "    </tr>\n",
       "    <tr>\n",
       "      <th>59989</th>\n",
       "      <td>2193</td>\n",
       "      <td>0</td>\n",
       "      <td>0</td>\n",
       "      <td>1267</td>\n",
       "      <td>0</td>\n",
       "      <td>5</td>\n",
       "      <td>0</td>\n",
       "      <td>2</td>\n",
       "      <td>266420</td>\n",
       "      <td>0</td>\n",
       "      <td>0</td>\n",
       "      <td>78</td>\n",
       "      <td>490</td>\n",
       "      <td>0</td>\n",
       "      <td>106</td>\n",
       "      <td>0</td>\n",
       "      <td>12</td>\n",
       "      <td>95625</td>\n",
       "      <td>33</td>\n",
       "      <td>1.0</td>\n",
       "      <td>0</td>\n",
       "      <td>3</td>\n",
       "      <td>124</td>\n",
       "      <td>0</td>\n",
       "      <td>0</td>\n",
       "      <td>0</td>\n",
       "      <td>0</td>\n",
       "      <td>5</td>\n",
       "      <td>4</td>\n",
       "      <td>2</td>\n",
       "      <td>10</td>\n",
       "      <td>1</td>\n",
       "      <td>3</td>\n",
       "      <td>4</td>\n",
       "      <td>0</td>\n",
       "      <td>0.129673</td>\n",
       "      <td>2.000000</td>\n",
       "      <td>1267.00</td>\n",
       "      <td>Mobile App</td>\n",
       "      <td>Desktop</td>\n",
       "    </tr>\n",
       "    <tr>\n",
       "      <th>59992</th>\n",
       "      <td>1713</td>\n",
       "      <td>0</td>\n",
       "      <td>1</td>\n",
       "      <td>5123</td>\n",
       "      <td>0</td>\n",
       "      <td>6</td>\n",
       "      <td>0</td>\n",
       "      <td>2</td>\n",
       "      <td>368695</td>\n",
       "      <td>2</td>\n",
       "      <td>0</td>\n",
       "      <td>446</td>\n",
       "      <td>685</td>\n",
       "      <td>0</td>\n",
       "      <td>263</td>\n",
       "      <td>0</td>\n",
       "      <td>41</td>\n",
       "      <td>87634</td>\n",
       "      <td>84</td>\n",
       "      <td>13.0</td>\n",
       "      <td>0</td>\n",
       "      <td>10</td>\n",
       "      <td>199</td>\n",
       "      <td>8</td>\n",
       "      <td>5</td>\n",
       "      <td>0</td>\n",
       "      <td>0</td>\n",
       "      <td>5</td>\n",
       "      <td>4</td>\n",
       "      <td>2</td>\n",
       "      <td>9</td>\n",
       "      <td>1</td>\n",
       "      <td>0</td>\n",
       "      <td>2</td>\n",
       "      <td>0</td>\n",
       "      <td>0.227081</td>\n",
       "      <td>5.857143</td>\n",
       "      <td>5123.00</td>\n",
       "      <td>STB</td>\n",
       "      <td>Mobile Web</td>\n",
       "    </tr>\n",
       "    <tr>\n",
       "      <th>59993</th>\n",
       "      <td>12760</td>\n",
       "      <td>0</td>\n",
       "      <td>1</td>\n",
       "      <td>7810</td>\n",
       "      <td>3</td>\n",
       "      <td>9</td>\n",
       "      <td>14</td>\n",
       "      <td>65</td>\n",
       "      <td>761019</td>\n",
       "      <td>9</td>\n",
       "      <td>1</td>\n",
       "      <td>1162</td>\n",
       "      <td>1456</td>\n",
       "      <td>2</td>\n",
       "      <td>648</td>\n",
       "      <td>1</td>\n",
       "      <td>51</td>\n",
       "      <td>180243</td>\n",
       "      <td>83</td>\n",
       "      <td>26.0</td>\n",
       "      <td>0</td>\n",
       "      <td>24</td>\n",
       "      <td>257</td>\n",
       "      <td>23</td>\n",
       "      <td>27</td>\n",
       "      <td>0</td>\n",
       "      <td>1</td>\n",
       "      <td>5</td>\n",
       "      <td>3</td>\n",
       "      <td>2</td>\n",
       "      <td>9</td>\n",
       "      <td>1</td>\n",
       "      <td>3</td>\n",
       "      <td>4</td>\n",
       "      <td>0</td>\n",
       "      <td>0.142585</td>\n",
       "      <td>5.100000</td>\n",
       "      <td>3905.00</td>\n",
       "      <td>Mobile App</td>\n",
       "      <td>Desktop</td>\n",
       "    </tr>\n",
       "    <tr>\n",
       "      <th>59994</th>\n",
       "      <td>751</td>\n",
       "      <td>0</td>\n",
       "      <td>0</td>\n",
       "      <td>1700</td>\n",
       "      <td>0</td>\n",
       "      <td>2</td>\n",
       "      <td>0</td>\n",
       "      <td>0</td>\n",
       "      <td>198231</td>\n",
       "      <td>0</td>\n",
       "      <td>0</td>\n",
       "      <td>110</td>\n",
       "      <td>310</td>\n",
       "      <td>0</td>\n",
       "      <td>99</td>\n",
       "      <td>0</td>\n",
       "      <td>17</td>\n",
       "      <td>67701</td>\n",
       "      <td>43</td>\n",
       "      <td>0.0</td>\n",
       "      <td>0</td>\n",
       "      <td>3</td>\n",
       "      <td>104</td>\n",
       "      <td>0</td>\n",
       "      <td>0</td>\n",
       "      <td>0</td>\n",
       "      <td>0</td>\n",
       "      <td>0</td>\n",
       "      <td>0</td>\n",
       "      <td>2</td>\n",
       "      <td>1</td>\n",
       "      <td>0</td>\n",
       "      <td>3</td>\n",
       "      <td>4</td>\n",
       "      <td>1</td>\n",
       "      <td>0.153617</td>\n",
       "      <td>5.666667</td>\n",
       "      <td>1700.00</td>\n",
       "      <td>Mobile App</td>\n",
       "      <td>Mobile Web</td>\n",
       "    </tr>\n",
       "    <tr>\n",
       "      <th>59998</th>\n",
       "      <td>29</td>\n",
       "      <td>0</td>\n",
       "      <td>0</td>\n",
       "      <td>23</td>\n",
       "      <td>0</td>\n",
       "      <td>0</td>\n",
       "      <td>0</td>\n",
       "      <td>0</td>\n",
       "      <td>38855</td>\n",
       "      <td>0</td>\n",
       "      <td>0</td>\n",
       "      <td>0</td>\n",
       "      <td>0</td>\n",
       "      <td>0</td>\n",
       "      <td>1</td>\n",
       "      <td>0</td>\n",
       "      <td>0</td>\n",
       "      <td>8850</td>\n",
       "      <td>0</td>\n",
       "      <td>0.0</td>\n",
       "      <td>0</td>\n",
       "      <td>0</td>\n",
       "      <td>1</td>\n",
       "      <td>0</td>\n",
       "      <td>0</td>\n",
       "      <td>0</td>\n",
       "      <td>0</td>\n",
       "      <td>5</td>\n",
       "      <td>4</td>\n",
       "      <td>2</td>\n",
       "      <td>1</td>\n",
       "      <td>1</td>\n",
       "      <td>3</td>\n",
       "      <td>2</td>\n",
       "      <td>0</td>\n",
       "      <td>0.011299</td>\n",
       "      <td>0.000000</td>\n",
       "      <td>23.00</td>\n",
       "      <td>Mobile Web</td>\n",
       "      <td>Desktop</td>\n",
       "    </tr>\n",
       "  </tbody>\n",
       "</table>\n",
       "<p>15054 rows × 40 columns</p>\n",
       "</div>"
      ],
      "text/plain": [
       "        var1  var2  var3   var4  var5  var6  var7  var8    var9  var10  var11  \\\n",
       "6      12434    11     1  23902     4     8    14   246  465758     45      7   \n",
       "15      2738     0     0   2323     0     6     0     4  273974      0      0   \n",
       "20      2961     0     1   5970     0     8     0    39  274032      1      0   \n",
       "29     13274    24     1  33023     0     8    28   369  459639     39      1   \n",
       "40       340     0     0    901     0     2     0     2  159101      0      0   \n",
       "...      ...   ...   ...    ...   ...   ...   ...   ...     ...    ...    ...   \n",
       "59989   2193     0     0   1267     0     5     0     2  266420      0      0   \n",
       "59992   1713     0     1   5123     0     6     0     2  368695      2      0   \n",
       "59993  12760     0     1   7810     3     9    14    65  761019      9      1   \n",
       "59994    751     0     0   1700     0     2     0     0  198231      0      0   \n",
       "59998     29     0     0     23     0     0     0     0   38855      0      0   \n",
       "\n",
       "       var12  var13  var14  var15  var16  var21   var22  var23  var24  var25  \\\n",
       "6       6860   1156      3    531      1     75  122176     95   24.0      1   \n",
       "15        98    444      0    135      0     11   80562     37    0.0      0   \n",
       "20       411    828      0    263      0     53   85042     82   11.0      0   \n",
       "29      6473   1605      1   2249      1     70  212460     95   66.0      0   \n",
       "40        66    358      0     66      0     16   65543     42    0.0      0   \n",
       "...      ...    ...    ...    ...    ...    ...     ...    ...    ...    ...   \n",
       "59989     78    490      0    106      0     12   95625     33    1.0      0   \n",
       "59992    446    685      0    263      0     41   87634     84   13.0      0   \n",
       "59993   1162   1456      2    648      1     51  180243     83   26.0      0   \n",
       "59994    110    310      0     99      0     17   67701     43    0.0      0   \n",
       "59998      0      0      0      1      0      0    8850      0    0.0      0   \n",
       "\n",
       "       var26  var27  var28  var29  var31  var32  var33  var34  var35  var36  \\\n",
       "6        237    229    150    279     10      1      5      4      2      3   \n",
       "15         3    151      0      0      0      0      5      3      2      1   \n",
       "20         6    186      0      6      0      0      5      4      2      7   \n",
       "29        53    214    193    106      0      1      5      3      2      2   \n",
       "40         3     76      0      1      0      1      5      2      2      7   \n",
       "...      ...    ...    ...    ...    ...    ...    ...    ...    ...    ...   \n",
       "59989      3    124      0      0      0      0      5      4      2     10   \n",
       "59992     10    199      8      5      0      0      5      4      2      9   \n",
       "59993     24    257     23     27      0      1      5      3      2      9   \n",
       "59994      3    104      0      0      0      0      0      0      2      1   \n",
       "59998      0      1      0      0      0      0      5      4      2      1   \n",
       "\n",
       "       var37  var38  var39  var40      load  status_vs_loyal  \\\n",
       "6          1      1      4      1  0.187435         8.333333   \n",
       "15         1      3      2      0  0.187433         1.571429   \n",
       "20         1      3      4      0  0.218715         5.888889   \n",
       "29         1      3      4      0  0.100725         7.777778   \n",
       "40         1      0      4      1  0.115954         5.333333   \n",
       "...      ...    ...    ...    ...       ...              ...   \n",
       "59989      1      3      4      0  0.129673         2.000000   \n",
       "59992      1      0      2      0  0.227081         5.857143   \n",
       "59993      1      3      4      0  0.142585         5.100000   \n",
       "59994      0      3      4      1  0.153617         5.666667   \n",
       "59998      1      3      2      0  0.011299         0.000000   \n",
       "\n",
       "       connect_per_device       truth       preds  \n",
       "6                 2987.75     Desktop  Mobile Web  \n",
       "15                2323.00  Mobile App     Desktop  \n",
       "20                5970.00     Desktop  Mobile Web  \n",
       "29               16511.50     Desktop  Mobile Web  \n",
       "40                 901.00     Desktop  Mobile App  \n",
       "...                   ...         ...         ...  \n",
       "59989             1267.00  Mobile App     Desktop  \n",
       "59992             5123.00         STB  Mobile Web  \n",
       "59993             3905.00  Mobile App     Desktop  \n",
       "59994             1700.00  Mobile App  Mobile Web  \n",
       "59998               23.00  Mobile Web     Desktop  \n",
       "\n",
       "[15054 rows x 40 columns]"
      ]
     },
     "execution_count": 46,
     "metadata": {},
     "output_type": "execute_result"
    }
   ],
   "source": [
    "bad_preds"
   ]
  },
  {
   "cell_type": "code",
   "execution_count": 47,
   "metadata": {},
   "outputs": [],
   "source": [
    "train['customer_interaction'] = train['var29']+train['var26']"
   ]
  },
  {
   "cell_type": "code",
   "execution_count": 48,
   "metadata": {
    "scrolled": true
   },
   "outputs": [
    {
     "data": {
      "text/plain": [
       "<matplotlib.axes._subplots.AxesSubplot at 0x2c701f2ae48>"
      ]
     },
     "execution_count": 48,
     "metadata": {},
     "output_type": "execute_result"
    },
    {
     "data": {
      "image/png": "[encoded data removed]",
      "text/plain": [
       "<Figure size 1500x600 with 1 Axes>"
      ]
     },
     "metadata": {
      "needs_background": "light"
     },
     "output_type": "display_data"
    }
   ],
   "source": [
    "sns.boxplot(y = train['customer_interaction'],x = train['self_service_platform'])"
   ]
  },
  {
   "cell_type": "code",
   "execution_count": 49,
   "metadata": {},
   "outputs": [],
   "source": [
    "train['video_centric']=train['var8']+train['var15']+train['var14']"
   ]
  },
  {
   "cell_type": "code",
   "execution_count": 71,
   "metadata": {},
   "outputs": [],
   "source": [
    "train['self_service'] = train['var38'].apply(lambda x:'self_service' if x==2 else x  )"
   ]
  },
  {
   "cell_type": "code",
   "execution_count": 72,
   "metadata": {},
   "outputs": [
    {
     "data": {
      "text/plain": [
       "3               185152\n",
       "0                65235\n",
       "1                36281\n",
       "self_service     13332\n",
       "Name: self_service, dtype: int64"
      ]
     },
     "execution_count": 72,
     "metadata": {},
     "output_type": "execute_result"
    }
   ],
   "source": [
    "train['self_service'].value_counts()"
   ]
  },
  {
   "cell_type": "code",
   "execution_count": 77,
   "metadata": {},
   "outputs": [],
   "source": [
    "train['self_service'].replace([3,1,0,'self_service'],[0,0,0,1],inplace=True)"
   ]
  },
  {
   "cell_type": "code",
   "execution_count": 79,
   "metadata": {},
   "outputs": [
    {
     "data": {
      "text/plain": [
       "0    286668\n",
       "1     13332\n",
       "Name: self_service, dtype: int64"
      ]
     },
     "execution_count": 79,
     "metadata": {},
     "output_type": "execute_result"
    }
   ],
   "source": [
    "train['self_service'].value_counts()"
   ]
  },
  {
   "cell_type": "code",
   "execution_count": 82,
   "metadata": {},
   "outputs": [
    {
     "data": {
      "text/plain": [
       "<matplotlib.axes._subplots.AxesSubplot at 0x2c70f8a7748>"
      ]
     },
     "execution_count": 82,
     "metadata": {},
     "output_type": "execute_result"
    },
    {
     "data": {
      "image/png": "[encoded data removed]",
      "text/plain": [
       "<Figure size 1500x600 with 1 Axes>"
      ]
     },
     "metadata": {
      "needs_background": "light"
     },
     "output_type": "display_data"
    }
   ],
   "source": [
    "sns.countplot(train[train['self_service']==1]['self_service_platform'])"
   ]
  },
  {
   "cell_type": "code",
   "execution_count": 83,
   "metadata": {},
   "outputs": [
    {
     "data": {
      "text/plain": [
       "<matplotlib.axes._subplots.AxesSubplot at 0x2c71030c400>"
      ]
     },
     "execution_count": 83,
     "metadata": {},
     "output_type": "execute_result"
    },
    {
     "data": {
      "image/png": "[encoded data removed]",
      "text/plain": [
       "<Figure size 3000x750 with 1 Axes>"
      ]
     },
     "metadata": {
      "needs_background": "light"
     },
     "output_type": "display_data"
    }
   ],
   "source": [
    "var = pd.crosstab(train['self_service'],train['self_service_platform']) \n",
    "var.div(var.sum(1).astype(float), axis=0).plot(kind=\"bar\", stacked=True, figsize=(20,5))\n"
   ]
  },
  {
   "cell_type": "code",
   "execution_count": 110,
   "metadata": {},
   "outputs": [],
   "source": [
    "train['economic_standing']=((train['var6']+1)*(train['var22']+train['var9'])*(train['var27']))/((train['var21']+1)/100)"
   ]
  },
  {
   "cell_type": "code",
   "execution_count": 119,
   "metadata": {},
   "outputs": [
    {
     "data": {
      "text/plain": [
       "<matplotlib.axes._subplots.AxesSubplot at 0x2c710111358>"
      ]
     },
     "execution_count": 119,
     "metadata": {},
     "output_type": "execute_result"
    },
    {
     "data": {
      "image/png": "[encoded data removed]",
      "text/plain": [
       "<Figure size 1500x600 with 1 Axes>"
      ]
     },
     "metadata": {
      "needs_background": "light"
     },
     "output_type": "display_data"
    }
   ],
   "source": [
    "sns.boxplot(y = train['economic_standing'].clip(0,10000000000), x=train['self_service_platform'])"
   ]
  },
  {
   "cell_type": "code",
   "execution_count": 108,
   "metadata": {},
   "outputs": [
    {
     "data": {
      "text/plain": [
       "count    300000.000000\n",
       "mean          5.039663\n",
       "std           2.933883\n",
       "min           0.000000\n",
       "25%           2.000000\n",
       "50%           5.000000\n",
       "75%           8.000000\n",
       "max           9.000000\n",
       "Name: var6, dtype: float64"
      ]
     },
     "execution_count": 108,
     "metadata": {},
     "output_type": "execute_result"
    }
   ],
   "source": [
    "train['var6'].describe()"
   ]
  },
  {
   "cell_type": "code",
   "execution_count": 100,
   "metadata": {},
   "outputs": [
    {
     "data": {
      "text/plain": [
       "7    46985\n",
       "8    42404\n",
       "9    34852\n",
       "5    33110\n",
       "0    30269\n",
       "2    25329\n",
       "6    24754\n",
       "4    22605\n",
       "1    22062\n",
       "3    17630\n",
       "Name: var6, dtype: int64"
      ]
     },
     "execution_count": 100,
     "metadata": {},
     "output_type": "execute_result"
    }
   ],
   "source": [
    "train['var6'].value_counts()"
   ]
  },
  {
   "cell_type": "code",
   "execution_count": null,
   "metadata": {},
   "outputs": [],
   "source": [
    "### What does train['var6'].add(1) do?"
   ]
  }
 ],
 "metadata": {
  "kernelspec": {
   "display_name": "Python 3",
   "language": "python",
   "name": "python3"
  },
  "language_info": {
   "codemirror_mode": {
    "name": "ipython",
    "version": 3
   },
   "file_extension": ".py",
   "mimetype": "text/x-python",
   "name": "python",
   "nbconvert_exporter": "python",
   "pygments_lexer": "ipython3",
   "version": "3.6.10"
  }
 },
 "nbformat": 4,
 "nbformat_minor": 2
}
